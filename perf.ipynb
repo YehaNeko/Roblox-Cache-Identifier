{
 "cells": [
  {
   "cell_type": "code",
   "execution_count": 28,
   "id": "13af4630",
   "metadata": {},
   "outputs": [],
   "source": [
    "import math\n",
    "import os\n",
    "from concurrent.futures import ProcessPoolExecutor\n",
    "from pathlib import Path\n",
    "\n",
    "from scanner import identify_content"
   ]
  },
  {
   "cell_type": "code",
   "execution_count": 29,
   "id": "21c18b8c",
   "metadata": {},
   "outputs": [],
   "source": [
    "roblox_cache_path = Path('~/AppData/Local/Temp/Roblox/http').expanduser()"
   ]
  },
  {
   "cell_type": "code",
   "execution_count": null,
   "id": "fb0b847b",
   "metadata": {},
   "outputs": [],
   "source": [
    "def mp_identify():\n",
    "    # batch_size = math.ceil(10_000 / (os.cpu_count() or 4))\n",
    "    batch_size = 500\n",
    "\n",
    "    with ProcessPoolExecutor() as executor:\n",
    "        results = list(\n",
    "            executor.map(identify_content, roblox_cache_path.iterdir(), chunksize=batch_size)\n",
    "        )\n",
    "    return results"
   ]
  },
  {
   "cell_type": "code",
   "execution_count": 36,
   "id": "b46bed30",
   "metadata": {},
   "outputs": [
    {
     "name": "stdout",
     "output_type": "stream",
     "text": [
      "645 ms ± 33.9 ms per loop (mean ± std. dev. of 7 runs, 1 loop each)\n"
     ]
    }
   ],
   "source": [
    "%%timeit\n",
    "a = mp_identify()"
   ]
  },
  {
   "cell_type": "code",
   "execution_count": 17,
   "id": "41de8762",
   "metadata": {},
   "outputs": [
    {
     "data": {
      "text/plain": [
       "13961"
      ]
     },
     "execution_count": 17,
     "metadata": {},
     "output_type": "execute_result"
    }
   ],
   "source": [
    "len(a)"
   ]
  },
  {
   "cell_type": "code",
   "execution_count": 2,
   "id": "f9fa51c2",
   "metadata": {},
   "outputs": [],
   "source": [
    "import os\n",
    "import struct\n",
    "from pathlib import Path\n",
    "\n",
    "\n",
    "ROBLOX_CACHE_PATH = Path('~/AppData/Local/Temp/Roblox/http').expanduser()\n",
    "A = int(16).to_bytes(4, 'little')"
   ]
  },
  {
   "cell_type": "code",
   "execution_count": 44,
   "id": "eca1a1ee",
   "metadata": {},
   "outputs": [
    {
     "name": "stdout",
     "output_type": "stream",
     "text": [
      "27.4 ms ± 393 μs per loop (mean ± std. dev. of 7 runs, 10 loops each)\n"
     ]
    }
   ],
   "source": [
    "%%timeit\n",
    "len(list(os.scandir(ROBLOX_CACHE_PATH)))"
   ]
  },
  {
   "cell_type": "code",
   "execution_count": 45,
   "id": "ce46a03b",
   "metadata": {},
   "outputs": [
    {
     "name": "stdout",
     "output_type": "stream",
     "text": [
      "25.7 ms ± 852 μs per loop (mean ± std. dev. of 7 runs, 10 loops each)\n"
     ]
    }
   ],
   "source": [
    "%%timeit\n",
    "sum(1 for _ in os.scandir(ROBLOX_CACHE_PATH))"
   ]
  },
  {
   "cell_type": "code",
   "execution_count": 48,
   "id": "128180b3",
   "metadata": {},
   "outputs": [
    {
     "name": "stdout",
     "output_type": "stream",
     "text": [
      "24.9 ms ± 179 μs per loop (mean ± std. dev. of 7 runs, 10 loops each)\n"
     ]
    }
   ],
   "source": [
    "%%timeit\n",
    "n = 0\n",
    "for _ in os.scandir(ROBLOX_CACHE_PATH):\n",
    "    n += 1"
   ]
  },
  {
   "cell_type": "code",
   "execution_count": 7,
   "id": "48df1a66",
   "metadata": {},
   "outputs": [
    {
     "name": "stdout",
     "output_type": "stream",
     "text": [
      "47.6 ms ± 1.43 ms per loop (mean ± std. dev. of 7 runs, 10 loops each)\n"
     ]
    }
   ],
   "source": [
    "%%timeit\n",
    "len(list(ROBLOX_CACHE_PATH.iterdir()))"
   ]
  },
  {
   "cell_type": "code",
   "execution_count": 6,
   "id": "6b746a28",
   "metadata": {},
   "outputs": [
    {
     "name": "stdout",
     "output_type": "stream",
     "text": [
      "151 ns ± 2.99 ns per loop (mean ± std. dev. of 7 runs, 10,000,000 loops each)\n"
     ]
    }
   ],
   "source": [
    "%%timeit\n",
    "a = int.from_bytes(A, 'little')"
   ]
  },
  {
   "cell_type": "code",
   "execution_count": 8,
   "id": "68d14b72",
   "metadata": {},
   "outputs": [
    {
     "name": "stdout",
     "output_type": "stream",
     "text": [
      "109 ns ± 2.5 ns per loop (mean ± std. dev. of 7 runs, 10,000,000 loops each)\n"
     ]
    }
   ],
   "source": [
    "%%timeit\n",
    "a = struct.unpack('<I', A)[0]"
   ]
  },
  {
   "cell_type": "code",
   "execution_count": 10,
   "id": "fa9815ac",
   "metadata": {},
   "outputs": [
    {
     "name": "stdout",
     "output_type": "stream",
     "text": [
      "109 ns ± 1.62 ns per loop (mean ± std. dev. of 7 runs, 10,000,000 loops each)\n"
     ]
    }
   ],
   "source": [
    "%%timeit\n",
    "(a,) = struct.unpack('<I', A)"
   ]
  },
  {
   "cell_type": "code",
   "execution_count": 11,
   "id": "2d5378c5",
   "metadata": {},
   "outputs": [
    {
     "data": {
      "text/plain": [
       "b'\\x10\\x00\\x00\\x00'"
      ]
     },
     "execution_count": 11,
     "metadata": {},
     "output_type": "execute_result"
    }
   ],
   "source": [
    "A"
   ]
  },
  {
   "cell_type": "code",
   "execution_count": 2,
   "id": "01b5a0b4",
   "metadata": {},
   "outputs": [
    {
     "name": "stdout",
     "output_type": "stream",
     "text": [
      "b'jr32ojr23fjeripogjipoj2'\n",
      "b'43itj342jg0234hjg34oigj'\n"
     ]
    }
   ],
   "source": [
    "with open('a.txt', 'rb') as f:\n",
    "    print(f.read(23))\n",
    "    print(f.read(23))"
   ]
  },
  {
   "cell_type": "code",
   "execution_count": null,
   "id": "71bbc4c6",
   "metadata": {},
   "outputs": [
    {
     "data": {
      "text/plain": [
       "True"
      ]
     },
     "execution_count": 4,
     "metadata": {},
     "output_type": "execute_result"
    },
    {
     "ename": "",
     "evalue": "",
     "output_type": "error",
     "traceback": [
      "\u001b[1;31mThe Kernel crashed while executing code in the current cell or a previous cell. \n",
      "\u001b[1;31mPlease review the code in the cell(s) to identify a possible cause of the failure. \n",
      "\u001b[1;31mClick <a href='https://aka.ms/vscodeJupyterKernelCrash'>here</a> for more info. \n",
      "\u001b[1;31mView Jupyter <a href='command:jupyter.viewOutput'>log</a> for further details."
     ]
    }
   ],
   "source": [
    "a = b'\\xFF\\xE0\\xFF\\xFF'\n",
    "\n",
    "a[:2] == b'\\xFF\\xE0'"
   ]
  }
 ],
 "metadata": {
  "kernelspec": {
   "display_name": ".venv",
   "language": "python",
   "name": "python3"
  },
  "language_info": {
   "codemirror_mode": {
    "name": "ipython",
    "version": 3
   },
   "file_extension": ".py",
   "mimetype": "text/x-python",
   "name": "python",
   "nbconvert_exporter": "python",
   "pygments_lexer": "ipython3",
   "version": "3.12.9"
  }
 },
 "nbformat": 4,
 "nbformat_minor": 5
}
